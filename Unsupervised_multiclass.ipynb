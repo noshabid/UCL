{
 "cells": [
  {
   "cell_type": "code",
   "execution_count": null,
   "id": "4be25b11-5a41-4ce2-ab8d-a2c141d3fb60",
   "metadata": {
    "execution": {
     "iopub.execute_input": "2024-03-26T16:05:05.901445Z",
     "iopub.status.busy": "2024-03-26T16:05:05.901445Z",
     "iopub.status.idle": "2024-03-26T16:05:11.374181Z",
     "shell.execute_reply": "2024-03-26T16:05:11.374181Z"
    },
    "pycharm": {
     "name": "#%%\n"
    }
   },
   "outputs": [],
   "source": [
    "import matplotlib.pyplot as plt\n",
    "import pandas as pd\n",
    "import os\n",
    "import tensorflow as tf\n",
    "\n",
    "import ucl_v3\n",
    "\n",
    "import utilities # this file must be in the same folder as the notebook\n",
    "\n",
    "import seaborn as sns"
   ]
  },
  {
   "cell_type": "code",
   "execution_count": null,
   "id": "4e0d1fb6",
   "metadata": {
    "execution": {
     "iopub.execute_input": "2024-03-26T16:05:11.376182Z",
     "iopub.status.busy": "2024-03-26T16:05:11.376182Z",
     "iopub.status.idle": "2024-03-26T16:05:11.389554Z",
     "shell.execute_reply": "2024-03-26T16:05:11.389554Z"
    }
   },
   "outputs": [],
   "source": [
    "training_params = {\n",
    "    'elambda': 'lof',                       #lof(for kmeans or spctral), auto or float(only with kmeans)\n",
    "    'clustering_method': 'spectral',        #kmeans or spectral(recomended to use kmeans if dataset is above ~50 000 images)\n",
    "    'use_dim_red': True,                    #recommended to use dimensionality reduction by default\n",
    "    'umap_iterations': 1,                   #Number of iterations to use UMAP before using autoencoder(if dimensionality reduction is enabled). Set it above the stop_iter value if UMAP is to be used for all iterations.\n",
    "    'start_iter': 1,                        #If start_iter is set above 1 the model from iteration start_iter-1 will be loaded\n",
    "    'stop_iter': 10\n",
    "}"
   ]
  },
  {
   "cell_type": "code",
   "execution_count": null,
   "id": "27f1d0e8",
   "metadata": {
    "execution": {
     "iopub.execute_input": "2024-03-26T16:05:11.390577Z",
     "iopub.status.busy": "2024-03-26T16:05:11.390577Z",
     "iopub.status.idle": "2024-03-26T16:05:11.405605Z",
     "shell.execute_reply": "2024-03-26T16:05:11.405605Z"
    }
   },
   "outputs": [],
   "source": [
    "labels = ['airplane',\n",
    "          #'automobile',\n",
    "          #'bird',\n",
    "          #'cat',\n",
    "          #'deer',\n",
    "          #'dog',\n",
    "          #'frog',\n",
    "          'horse',\n",
    "          #'ship',\n",
    "          'truck']\n",
    "train_txt = []\n",
    "valid_txt = []\n",
    "test_txt = []\n",
    "\n",
    "for i in labels:\n",
    "    train_txt.append(f'data_txt/{i}_train.txt')\n",
    "    valid_txt.append(f'data_txt/{i}_valid.txt')\n",
    "    test_txt.append(f'data_txt/{i}_test.txt')\n",
    "\n",
    "train_txt"
   ]
  },
  {
   "cell_type": "code",
   "execution_count": null,
   "id": "ba058461",
   "metadata": {
    "execution": {
     "iopub.execute_input": "2024-03-26T16:05:11.407621Z",
     "iopub.status.busy": "2024-03-26T16:05:11.406625Z",
     "iopub.status.idle": "2024-03-26T16:05:11.452916Z",
     "shell.execute_reply": "2024-03-26T16:05:11.452916Z"
    }
   },
   "outputs": [],
   "source": [
    "print(\"Num GPUs Available: \", len(tf.config.list_physical_devices('GPU')))"
   ]
  },
  {
   "cell_type": "code",
   "execution_count": null,
   "id": "3fbb6a7b",
   "metadata": {
    "execution": {
     "iopub.execute_input": "2024-03-26T16:05:11.454916Z",
     "iopub.status.busy": "2024-03-26T16:05:11.453917Z",
     "iopub.status.idle": "2024-03-26T16:05:11.468945Z",
     "shell.execute_reply": "2024-03-26T16:05:11.468945Z"
    }
   },
   "outputs": [],
   "source": [
    "from importlib import reload\n",
    "reload(ucl_v3)\n",
    "ucl_v3.create_model"
   ]
  },
  {
   "cell_type": "code",
   "execution_count": null,
   "id": "0d88f12d",
   "metadata": {
    "collapsed": false,
    "execution": {
     "iopub.execute_input": "2024-03-26T16:05:11.470958Z",
     "iopub.status.busy": "2024-03-26T16:05:11.470958Z",
     "iopub.status.idle": "2024-03-26T16:05:11.484965Z",
     "shell.execute_reply": "2024-03-26T16:05:11.484965Z"
    },
    "jupyter": {
     "outputs_hidden": false
    },
    "pycharm": {
     "name": "#%%\n"
    }
   },
   "outputs": [],
   "source": [
    "tf.keras.backend.clear_session\n",
    "# The GPU id to use, usually either \"0\" or \"1\";\n",
    "os.environ[\"CUDA_VISIBLE_DEVICES\"]=\"0\"; "
   ]
  },
  {
   "cell_type": "code",
   "execution_count": null,
   "id": "52827610",
   "metadata": {
    "collapsed": false,
    "execution": {
     "iopub.execute_input": "2024-03-26T16:05:11.486980Z",
     "iopub.status.busy": "2024-03-26T16:05:11.485982Z",
     "iopub.status.idle": "2024-03-26T16:05:11.501018Z",
     "shell.execute_reply": "2024-03-26T16:05:11.501018Z"
    },
    "jupyter": {
     "outputs_hidden": false
    },
    "pycharm": {
     "name": "#%%\n"
    }
   },
   "outputs": [],
   "source": [
    "# Constants used for learning\n",
    "WORK_IMG_SIZE = 112,112 # Note: (224, 224) is default for most pretrained models\n",
    "INPUT_SHAPE = WORK_IMG_SIZE + (3,) # 3 for rgb, since model is pretrained for color images\n",
    "BATCH_SIZE = 32\n",
    "\n",
    "# dt = datetime.now()\n",
    "# timestamp = str(dt)[:str(dt).find(\".\")].replace(\"-\", \"\").replace(\":\", \"\").replace(\" \", \"_\")  # use for log file name\n",
    "\n",
    "STORE_Path = \"Results_v2/Res_F2\"\n",
    "CHECKPOINTS_Path = STORE_Path+\"/checkpoints/\"\n",
    "LOGS_Path = STORE_Path+\"/\"\n",
    "PLOTS_Path = STORE_Path+\"/plots/\"\n",
    "\n",
    "# create directories\n",
    "if not os.path.exists(CHECKPOINTS_Path):\n",
    "    os.makedirs(CHECKPOINTS_Path)\n",
    "if not os.path.exists(PLOTS_Path):\n",
    "    os.makedirs(PLOTS_Path)"
   ]
  },
  {
   "cell_type": "code",
   "execution_count": null,
   "id": "4c9f875e",
   "metadata": {
    "collapsed": false,
    "execution": {
     "iopub.execute_input": "2024-03-26T16:05:11.502016Z",
     "iopub.status.busy": "2024-03-26T16:05:11.502016Z",
     "iopub.status.idle": "2024-03-26T16:05:11.517270Z",
     "shell.execute_reply": "2024-03-26T16:05:11.517270Z"
    },
    "jupyter": {
     "outputs_hidden": false
    },
    "pycharm": {
     "name": "#%%\n"
    }
   },
   "outputs": [],
   "source": [
    "# Data Generator for feature extraction (only standardization, no randomness)\n",
    "ext_datagen = tf.keras.preprocessing.image.ImageDataGenerator(\n",
    "                                            samplewise_center=True, #False,\n",
    "                                            samplewise_std_normalization=True #False\n",
    "                                        )\n",
    "\n",
    "# This one is for the training (contains randomized augmentations)\n",
    "train_datagen = tf.keras.preprocessing.image.ImageDataGenerator(\n",
    "                                            samplewise_center=True, #False,\n",
    "                                            samplewise_std_normalization=True, #False,\n",
    "                                            rotation_range=30, # 0,\n",
    "                                            brightness_range=None, # ?\n",
    "                                            shear_range=0.1, # 0.0,\n",
    "                                            zoom_range=0.1, # 0.0,\n",
    "                                            channel_shift_range=0.0,\n",
    "                                            fill_mode='nearest',\n",
    "                                            cval=0.0,\n",
    "                                            horizontal_flip=True, # False,\n",
    "                                            vertical_flip=True, # False,\n",
    "                                        )"
   ]
  },
  {
   "cell_type": "code",
   "execution_count": null,
   "id": "e6d81032",
   "metadata": {
    "execution": {
     "iopub.execute_input": "2024-03-26T16:05:11.519292Z",
     "iopub.status.busy": "2024-03-26T16:05:11.518287Z",
     "iopub.status.idle": "2024-03-26T16:05:11.595976Z",
     "shell.execute_reply": "2024-03-26T16:05:11.595976Z"
    }
   },
   "outputs": [],
   "source": [
    "train_paths_df = utilities.make_path_df(train_txt)\n",
    "valid_paths_df = utilities.make_path_df(valid_txt)\n",
    "test_paths_df = utilities.make_path_df(test_txt)\n",
    "\n",
    "#train_paths_df = train_paths_df.append(valid_paths_df, ignore_index=True)\n",
    "train_paths_df = pd.concat([train_paths_df, valid_paths_df], ignore_index=True)\n",
    "\n",
    "# Replace labels with integers. Keep names for future use.\n",
    "label_names = train_paths_df[\"label\"].unique()\n",
    "label_dict = {}\n",
    "for e,l in enumerate(label_names): label_dict[l] = e\n",
    "train_paths_df[\"label\"].replace(label_dict, inplace=True) \n",
    "test_paths_df[\"label\"].replace(label_dict, inplace=True) \n",
    "\n",
    "# Checks...\n",
    "if len(train_paths_df[train_paths_df.duplicated()]) > 0: #should not happen...\n",
    "    print(\"WARNING, there are duplicates in the dataset.\")\n",
    "    #print(paths_df[paths_df.duplicated()])\n",
    "    \n",
    "print(f\"Training data: {len(train_paths_df)}\\nTesting data: {len(test_paths_df)}\")\n",
    "print(\"Unique labels: \",label_names, len(label_names))\n",
    "print(train_paths_df[\"label\"].value_counts())\n",
    "print(test_paths_df[\"label\"].value_counts())"
   ]
  },
  {
   "cell_type": "code",
   "execution_count": null,
   "id": "45c5a47e",
   "metadata": {
    "execution": {
     "iopub.execute_input": "2024-03-26T16:05:11.597978Z",
     "iopub.status.busy": "2024-03-26T16:05:11.597978Z",
     "iopub.status.idle": "2024-03-26T16:05:11.610977Z",
     "shell.execute_reply": "2024-03-26T16:05:11.610977Z"
    }
   },
   "outputs": [],
   "source": [
    "train_paths_df"
   ]
  },
  {
   "cell_type": "code",
   "execution_count": null,
   "id": "d9a23c09",
   "metadata": {
    "collapsed": false,
    "execution": {
     "iopub.execute_input": "2024-03-26T16:05:11.612978Z",
     "iopub.status.busy": "2024-03-26T16:05:11.612978Z",
     "iopub.status.idle": "2024-03-26T16:05:12.531057Z",
     "shell.execute_reply": "2024-03-26T16:05:12.531057Z"
    },
    "jupyter": {
     "outputs_hidden": false
    },
    "pycharm": {
     "name": "#%%\n"
    }
   },
   "outputs": [],
   "source": [
    "for label in range(len(labels)):\n",
    "    _ = utilities.view_images(train_paths_df[train_paths_df[\"label\"]==label],\n",
    "                                  #y_train[y_train==0],\n",
    "                                  n_images=9,\n",
    "                                  cmap=\"Greys\",\n",
    "                                  #randomize=True,\n",
    "                                  size=(3,3)).tight_layout()\n"
   ]
  },
  {
   "cell_type": "code",
   "execution_count": null,
   "id": "a9083e68",
   "metadata": {
    "execution": {
     "iopub.execute_input": "2024-03-26T16:05:12.533073Z",
     "iopub.status.busy": "2024-03-26T16:05:12.533073Z",
     "iopub.status.idle": "2024-03-26T16:05:12.547450Z",
     "shell.execute_reply": "2024-03-26T16:05:12.547096Z"
    }
   },
   "outputs": [],
   "source": [
    "n_clusters = len(labels)"
   ]
  },
  {
   "cell_type": "code",
   "execution_count": null,
   "id": "9db39a55-959b-4f71-975d-e5e6a2a702fd",
   "metadata": {
    "execution": {
     "iopub.execute_input": "2024-03-26T16:05:12.548458Z",
     "iopub.status.busy": "2024-03-26T16:05:12.548458Z",
     "iopub.status.idle": "2024-03-26T16:05:14.758695Z",
     "shell.execute_reply": "2024-03-26T16:05:14.758695Z"
    },
    "pycharm": {
     "name": "#%%\n"
    }
   },
   "outputs": [],
   "source": [
    "# Create model. Remember to rerun this before running the next cell\n",
    "vgg16model = ucl_v3.create_model(tf.keras.applications.vgg16.VGG16, weights=\"imagenet\", input_shape=INPUT_SHAPE,\n",
    "                              #core_output_layer=\"block3_pool\", # here you can set a different output layer\n",
    "                              n_clusters=n_clusters,\n",
    "                              learning_rate=0.00000001, momentum=0, # never actually used, model is recompiled later\n",
    "                              random_seed=101)\n",
    "vgg16model.save(CHECKPOINTS_Path + '0.ckpt')"
   ]
  },
  {
   "cell_type": "code",
   "execution_count": null,
   "id": "279f68e4",
   "metadata": {
    "collapsed": false,
    "execution": {
     "iopub.execute_input": "2024-03-26T16:05:14.760695Z",
     "iopub.status.busy": "2024-03-26T16:05:14.760695Z",
     "iopub.status.idle": "2024-03-26T16:05:14.774725Z",
     "shell.execute_reply": "2024-03-26T16:05:14.774725Z"
    },
    "jupyter": {
     "outputs_hidden": false
    },
    "pycharm": {
     "name": "#%%\n"
    }
   },
   "outputs": [],
   "source": [
    "if training_params['start_iter'] > 1:\n",
    "    vgg16model = tf.keras.models.load_model(CHECKPOINTS_Path + str(training_params['start_iter']-1) + '.ckpt')"
   ]
  },
  {
   "cell_type": "code",
   "execution_count": null,
   "id": "64c897cf",
   "metadata": {
    "execution": {
     "iopub.execute_input": "2024-03-26T16:05:14.776741Z",
     "iopub.status.busy": "2024-03-26T16:05:14.776741Z",
     "iopub.status.idle": "2024-03-26T16:05:14.789905Z",
     "shell.execute_reply": "2024-03-26T16:05:14.789905Z"
    }
   },
   "outputs": [],
   "source": [
    "training_params"
   ]
  },
  {
   "cell_type": "code",
   "execution_count": null,
   "id": "8faee9d7",
   "metadata": {
    "collapsed": false,
    "execution": {
     "iopub.execute_input": "2024-03-26T16:05:14.791905Z",
     "iopub.status.busy": "2024-03-26T16:05:14.790905Z",
     "iopub.status.idle": "2024-03-26T17:06:19.676450Z",
     "shell.execute_reply": "2024-03-26T17:06:19.676450Z"
    },
    "jupyter": {
     "outputs_hidden": false
    },
    "pycharm": {
     "name": "#%%\n"
    }
   },
   "outputs": [],
   "source": [
    "from importlib import reload\n",
    "reload(ucl_v3)\n",
    "\n",
    "\n",
    "#vgg16model = tf.keras.models.load_model(CHECKPOINTS_Path + '16.ckpt')\n",
    "mod, i_metrics, pl, sims, hists = ucl_v3.make_ucl(vgg16model,\n",
    "                                           data=train_paths_df[\"path\"],\n",
    "                                           true_labels=train_paths_df[\"label\"],\n",
    "                                           ext_datagen=ext_datagen,\n",
    "                                           train_datagen=train_datagen,\n",
    "                                           img_size=WORK_IMG_SIZE,\n",
    "                                           starting_centers=None,\n",
    "                                           freeze_centers=False,\n",
    "                                           use_previous_centers=False,\n",
    "                                           random_seed=101,\n",
    "                                           batch_size=BATCH_SIZE,\n",
    "                                           freeze_layers=11, # first 3 conv blocks\n",
    "                                           learning_rate=0.0001, momentum=0.9,\n",
    "                                           elambda=training_params['elambda'],\n",
    "                                           n_clusters=n_clusters,\n",
    "                                           start_iter=training_params['start_iter'],\n",
    "                                           stop_iter=training_params['stop_iter'],\n",
    "                                           n_epochs=50,\n",
    "                                           use_validation=True,\n",
    "                                           log_path=LOGS_Path,\n",
    "                                           checkpoint_path=CHECKPOINTS_Path,\n",
    "                                           plots_path=PLOTS_Path,\n",
    "                                           show_images=False,\n",
    "                                           show_figs=True,\n",
    "                                           clustering_method=training_params['clustering_method'],\n",
    "                                           use_dim_red=training_params['use_dim_red'],\n",
    "                                           umap_iterations=training_params['umap_iterations'],\n",
    "                                           comment=\"\")\n",
    "i_metrics.head(12)"
   ]
  },
  {
   "cell_type": "code",
   "execution_count": null,
   "id": "f5b38e35",
   "metadata": {
    "execution": {
     "iopub.execute_input": "2024-03-26T17:06:19.678454Z",
     "iopub.status.busy": "2024-03-26T17:06:19.678454Z",
     "iopub.status.idle": "2024-03-26T17:06:19.692526Z",
     "shell.execute_reply": "2024-03-26T17:06:19.692526Z"
    }
   },
   "outputs": [],
   "source": [
    "i_metrics"
   ]
  },
  {
   "cell_type": "code",
   "execution_count": null,
   "id": "a7e8d9ec",
   "metadata": {
    "collapsed": false,
    "execution": {
     "iopub.execute_input": "2024-03-26T17:06:19.694540Z",
     "iopub.status.busy": "2024-03-26T17:06:19.694540Z",
     "iopub.status.idle": "2024-03-26T17:06:21.254110Z",
     "shell.execute_reply": "2024-03-26T17:06:21.254110Z"
    },
    "jupyter": {
     "outputs_hidden": false
    },
    "pycharm": {
     "name": "#%%\n"
    }
   },
   "outputs": [],
   "source": [
    "for c in i_metrics.columns:\n",
    "    plt.figure(figsize=(6,3))\n",
    "    i_metrics[c].plot(title=c)\n",
    "    plt.ylim(bottom=0, top=max(1.1, max(i_metrics[c])+0.2))\n",
    "    plt.tight_layout()\n",
    "    plt.savefig(PLOTS_Path+f\"histories_{c}.jpg\") # for some reason, tight layout doesn't work with png\n",
    "    plt.show()"
   ]
  },
  {
   "cell_type": "code",
   "execution_count": null,
   "id": "cf556229",
   "metadata": {
    "execution": {
     "iopub.execute_input": "2024-03-26T17:06:21.256111Z",
     "iopub.status.busy": "2024-03-26T17:06:21.256111Z",
     "iopub.status.idle": "2024-03-26T17:07:51.169044Z",
     "shell.execute_reply": "2024-03-26T17:07:51.169044Z"
    }
   },
   "outputs": [],
   "source": [
    "import imp\n",
    "imp.reload(ucl_v3)\n",
    "\n",
    "from sklearn.metrics import silhouette_score\n",
    "from sklearn.metrics import confusion_matrix\n",
    "for i in range(training_params['start_iter'],training_params['stop_iter']+1):\n",
    "    print(\"*****************************************\")\n",
    "    print(\"******** ITERATION \"+str(i)+\" ************\")\n",
    "    eval_model = tf.keras.models.load_model(CHECKPOINTS_Path+str(i)+\".ckpt\")\n",
    "\n",
    "    preds_df = ucl_v3.predict_model(eval_model,test_paths_df[\"path\"], labels=test_paths_df[\"label\"], ext_datagen=ext_datagen, random_seed=101)\n",
    "    print(preds_df.value_counts(\"correct_p\"))\n",
    "    # print(preds_df.value_counts(\"correct_c\"))\n",
    "\n",
    "    print(utilities.make_classification_report(preds_df[\"true\"], preds_df[\"p_pred\"], labels=label_names))\n",
    "    f = open(LOGS_Path+\"rep_p_it_\"+str(i)+\".txt\", \"w\")\n",
    "    f.write(utilities.make_classification_report(preds_df[\"true\"], preds_df[\"p_pred\"], labels=label_names))\n",
    "    f.close()\n",
    "\n",
    "    print(confusion_matrix(preds_df[\"true\"], preds_df[\"p_pred\"]))\n",
    "    # print(sklearn.metrics.cluster.contingency_matrix(preds_df[\"true\"], preds_df[\"p_pred\"]))\n",
    "    print(\"*****************************************\")"
   ]
  },
  {
   "cell_type": "code",
   "execution_count": null,
   "id": "da22f5c6",
   "metadata": {},
   "outputs": [],
   "source": [
    "# Evaluation using the base model\n",
    "\n",
    "# Evaluation. Load the model checkpoint\n",
    "eval_model = tf.keras.models.load_model(CHECKPOINTS_Path+\"0.ckpt\")\n",
    "\n",
    "preds_df = ucl_v3.predict_model(eval_model,test_paths_df[\"path\"], labels=test_paths_df[\"label\"], ext_datagen=ext_datagen, random_seed=101)\n",
    "\n",
    "print(preds_df.value_counts(\"correct_p\"))\n",
    "\n",
    "print(utilities.make_classification_report(preds_df[\"true\"], preds_df[\"p_pred\"], labels=label_names))\n",
    "f = open(LOGS_Path+\"rep_p_it3.txt\", \"w\")\n",
    "f.write(utilities.make_classification_report(preds_df[\"true\"], preds_df[\"p_pred\"], labels=label_names))\n",
    "f.close()\n"
   ]
  },
  {
   "cell_type": "code",
   "execution_count": null,
   "id": "7dc2a3bd",
   "metadata": {
    "collapsed": false,
    "execution": {
     "iopub.execute_input": "2024-03-26T17:07:51.171044Z",
     "iopub.status.busy": "2024-03-26T17:07:51.171044Z",
     "iopub.status.idle": "2024-03-26T17:08:00.039243Z",
     "shell.execute_reply": "2024-03-26T17:08:00.039243Z"
    },
    "jupyter": {
     "outputs_hidden": false
    },
    "pycharm": {
     "name": "#%%\n"
    }
   },
   "outputs": [],
   "source": [
    "# Evaluation using the last trained model\n",
    "\n",
    "# Evaluation. Load the model checkpoint\n",
    "eval_model = tf.keras.models.load_model(CHECKPOINTS_Path+\"5.ckpt\")\n",
    "\n",
    "preds_df = ucl_v3.predict_model(eval_model,test_paths_df[\"path\"], labels=test_paths_df[\"label\"], ext_datagen=ext_datagen, random_seed=101)\n",
    "\n",
    "print(preds_df.value_counts(\"correct_p\"))\n",
    "\n",
    "print(utilities.make_classification_report(preds_df[\"true\"], preds_df[\"p_pred\"], labels=label_names))\n",
    "f = open(LOGS_Path+\"rep_p_it3.txt\", \"w\")\n",
    "f.write(utilities.make_classification_report(preds_df[\"true\"], preds_df[\"p_pred\"], labels=label_names))\n",
    "f.close()"
   ]
  },
  {
   "cell_type": "code",
   "execution_count": null,
   "id": "c4d1c8b7",
   "metadata": {
    "execution": {
     "iopub.execute_input": "2024-03-26T17:08:00.041246Z",
     "iopub.status.busy": "2024-03-26T17:08:00.041246Z",
     "iopub.status.idle": "2024-03-26T17:08:00.054463Z",
     "shell.execute_reply": "2024-03-26T17:08:00.054463Z"
    }
   },
   "outputs": [],
   "source": [
    "label_dict = {v: k for k, v in label_dict.items()}\n",
    "label_dict"
   ]
  },
  {
   "cell_type": "code",
   "execution_count": null,
   "id": "deca4ba5",
   "metadata": {
    "execution": {
     "iopub.execute_input": "2024-03-26T17:08:00.056478Z",
     "iopub.status.busy": "2024-03-26T17:08:00.056478Z",
     "iopub.status.idle": "2024-03-26T17:08:00.070493Z",
     "shell.execute_reply": "2024-03-26T17:08:00.070493Z"
    }
   },
   "outputs": [],
   "source": [
    "preds_df[\"true\"] = [label_dict[x] for x in preds_df[\"true\"]] \n",
    "preds_df[\"p_pred\"] = [label_dict[x] for x in preds_df[\"p_pred\"]] \n",
    "\n",
    "preds_df[\"correct_p\"] = preds_df[\"p_pred\"] == preds_df[\"true\"]\n",
    "misclassified = preds_df[preds_df[\"correct_p\"] == False]\n",
    "misclassified.to_csv(STORE_Path+'UCL_misclassified.csv')\n",
    "preds_df.to_csv(STORE_Path+'UCL_all_pred.csv')\n"
   ]
  },
  {
   "cell_type": "code",
   "execution_count": null,
   "id": "8f4f8e1e",
   "metadata": {
    "execution": {
     "iopub.execute_input": "2024-03-26T17:08:00.072493Z",
     "iopub.status.busy": "2024-03-26T17:08:00.072493Z",
     "iopub.status.idle": "2024-03-26T17:08:00.150494Z",
     "shell.execute_reply": "2024-03-26T17:08:00.150494Z"
    }
   },
   "outputs": [],
   "source": [
    "cm = pd.crosstab(preds_df[\"true\"], preds_df[\"p_pred\"])\n",
    "f = sns.heatmap(cm, annot=True, fmt='d', cmap = 'Blues', linewidth=.5)"
   ]
  },
  {
   "cell_type": "code",
   "execution_count": null,
   "id": "c5380ea5",
   "metadata": {
    "execution": {
     "iopub.execute_input": "2024-03-26T17:08:00.152494Z",
     "iopub.status.busy": "2024-03-26T17:08:00.152494Z",
     "iopub.status.idle": "2024-03-26T17:08:00.167514Z",
     "shell.execute_reply": "2024-03-26T17:08:00.166509Z"
    }
   },
   "outputs": [],
   "source": [
    "misclassified"
   ]
  },
  {
   "cell_type": "code",
   "execution_count": null,
   "id": "883d112a",
   "metadata": {
    "execution": {
     "iopub.execute_input": "2024-03-26T17:08:00.169515Z",
     "iopub.status.busy": "2024-03-26T17:08:00.168517Z",
     "iopub.status.idle": "2024-03-26T17:08:03.223368Z",
     "shell.execute_reply": "2024-03-26T17:08:03.223368Z"
    }
   },
   "outputs": [],
   "source": [
    "import imp\n",
    "imp.reload(utilities)\n",
    "_ = utilities.view_images(misclassified[\"path\"], labels='Pred: ' + misclassified[\"p_pred\"] + '\\nTrue: ' + misclassified[\"true\"], cmap=\"Greys\", n_images=64).tight_layout()"
   ]
  },
  {
   "cell_type": "code",
   "execution_count": null,
   "id": "de1e694f",
   "metadata": {
    "execution": {
     "iopub.execute_input": "2024-03-26T17:08:03.225374Z",
     "iopub.status.busy": "2024-03-26T17:08:03.225374Z",
     "iopub.status.idle": "2024-03-26T17:08:05.897188Z",
     "shell.execute_reply": "2024-03-26T17:08:05.897188Z"
    }
   },
   "outputs": [],
   "source": [
    "import imp\n",
    "imp.reload(utilities)\n",
    "_ = utilities.view_images(misclassified[\"path\"], labels='Pred: ' + misclassified[\"p_pred\"] + '\\nTrue: ' + misclassified[\"true\"], cmap=\"Greys\", n_images=64).tight_layout()"
   ]
  }
 ],
 "metadata": {
  "kernelspec": {
   "display_name": "ucl",
   "language": "python",
   "name": "python3"
  },
  "language_info": {
   "codemirror_mode": {
    "name": "ipython",
    "version": 3
   },
   "file_extension": ".py",
   "mimetype": "text/x-python",
   "name": "python",
   "nbconvert_exporter": "python",
   "pygments_lexer": "ipython3",
   "version": "3.9.18"
  }
 },
 "nbformat": 4,
 "nbformat_minor": 5
}
